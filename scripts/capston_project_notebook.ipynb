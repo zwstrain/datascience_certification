#this is a notebook for the first part of the capstone project

import pandas as pd
import numpy as np

print("Hello Capstone Project Course!")
